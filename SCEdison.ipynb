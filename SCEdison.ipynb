{
 "cells": [
  {
   "cell_type": "markdown",
   "metadata": {},
   "source": [
    "## SCEdison\n",
    "\n",
    "Explore usage and billing data.\n",
    "\n",
    "Southern California Edison provides up to three projections of bill amount. Let's explore how accurate it is.\n",
    "\n",
    "This is my personal billing info so it is a very small data set. None the less, it is fun to explore and can be used on larger data sets.\n"
   ]
  },
  {
   "cell_type": "code",
   "execution_count": 34,
   "metadata": {},
   "outputs": [],
   "source": [
    "import pandas as pd\n",
    "import plotly.express as px\n",
    "import plotly.graph_objects as go\n",
    "import numpy as np\n"
   ]
  },
  {
   "cell_type": "code",
   "execution_count": 30,
   "metadata": {},
   "outputs": [],
   "source": [
    "# Load the billing and projections Excel sheets\n",
    "xlsxpath = \"E:/UserLo/source/repos/learning/SCEdison/\"\n",
    "xlsx = \"SoCalEdison Bills.xlsx\"\n",
    "billing_sheet = \"Bills\"\n",
    "projection_sheet = \"Projections\"\n",
    "\n",
    "bills_df = pd.read_excel(xlsxpath+xlsx,sheet_name=billing_sheet)\n",
    "projections_df = pd.read_excel(xlsxpath+xlsx,sheet_name=projection_sheet)"
   ]
  },
  {
   "cell_type": "code",
   "execution_count": 14,
   "metadata": {},
   "outputs": [
    {
     "data": {
      "text/html": [
       "<div>\n",
       "<style scoped>\n",
       "    .dataframe tbody tr th:only-of-type {\n",
       "        vertical-align: middle;\n",
       "    }\n",
       "\n",
       "    .dataframe tbody tr th {\n",
       "        vertical-align: top;\n",
       "    }\n",
       "\n",
       "    .dataframe thead th {\n",
       "        text-align: right;\n",
       "    }\n",
       "</style>\n",
       "<table border=\"1\" class=\"dataframe\">\n",
       "  <thead>\n",
       "    <tr style=\"text-align: right;\">\n",
       "      <th></th>\n",
       "      <th>month</th>\n",
       "      <th>day</th>\n",
       "      <th>year</th>\n",
       "      <th>date</th>\n",
       "      <th>amt</th>\n",
       "      <th>type</th>\n",
       "      <th>mid_peak_per_kwh</th>\n",
       "      <th>off_peak_per_kwh</th>\n",
       "      <th>super_off_peak_per_kwh</th>\n",
       "      <th>base_charge_per_day</th>\n",
       "      <th>base_credit_per_kwh</th>\n",
       "      <th>DWR_bond_per_kwh</th>\n",
       "      <th>RPV_tax_sub_total</th>\n",
       "      <th>st_tax_per_kwh</th>\n",
       "      <th>climate_credit</th>\n",
       "    </tr>\n",
       "  </thead>\n",
       "  <tbody>\n",
       "    <tr>\n",
       "      <th>0</th>\n",
       "      <td>Apr</td>\n",
       "      <td>21</td>\n",
       "      <td>2022</td>\n",
       "      <td>2022-04-21</td>\n",
       "      <td>30.17</td>\n",
       "      <td>Bill</td>\n",
       "      <td>0.45312</td>\n",
       "      <td>0.34200</td>\n",
       "      <td>0.31000</td>\n",
       "      <td>0.031</td>\n",
       "      <td>-0.088545</td>\n",
       "      <td>0.00652</td>\n",
       "      <td>0.03</td>\n",
       "      <td>0.0003</td>\n",
       "      <td>-59.0</td>\n",
       "    </tr>\n",
       "    <tr>\n",
       "      <th>1</th>\n",
       "      <td>Mar</td>\n",
       "      <td>22</td>\n",
       "      <td>2022</td>\n",
       "      <td>2022-03-22</td>\n",
       "      <td>81.48</td>\n",
       "      <td>Bill</td>\n",
       "      <td>0.43767</td>\n",
       "      <td>0.33154</td>\n",
       "      <td>0.30128</td>\n",
       "      <td>0.031</td>\n",
       "      <td>-0.085275</td>\n",
       "      <td>0.00580</td>\n",
       "      <td>0.03</td>\n",
       "      <td>0.0003</td>\n",
       "      <td>NaN</td>\n",
       "    </tr>\n",
       "    <tr>\n",
       "      <th>2</th>\n",
       "      <td>Feb</td>\n",
       "      <td>18</td>\n",
       "      <td>2022</td>\n",
       "      <td>2022-02-18</td>\n",
       "      <td>72.73</td>\n",
       "      <td>Bill</td>\n",
       "      <td>0.41942</td>\n",
       "      <td>0.31647</td>\n",
       "      <td>0.28685</td>\n",
       "      <td>0.031</td>\n",
       "      <td>-0.082110</td>\n",
       "      <td>0.00580</td>\n",
       "      <td>0.03</td>\n",
       "      <td>0.0003</td>\n",
       "      <td>NaN</td>\n",
       "    </tr>\n",
       "    <tr>\n",
       "      <th>3</th>\n",
       "      <td>Jan</td>\n",
       "      <td>21</td>\n",
       "      <td>2022</td>\n",
       "      <td>2022-01-21</td>\n",
       "      <td>89.43</td>\n",
       "      <td>Bill</td>\n",
       "      <td>0.41479</td>\n",
       "      <td>0.31333</td>\n",
       "      <td>0.28355</td>\n",
       "      <td>0.031</td>\n",
       "      <td>-0.079910</td>\n",
       "      <td>0.00580</td>\n",
       "      <td>0.03</td>\n",
       "      <td>0.0003</td>\n",
       "      <td>NaN</td>\n",
       "    </tr>\n",
       "    <tr>\n",
       "      <th>4</th>\n",
       "      <td>Dec</td>\n",
       "      <td>20</td>\n",
       "      <td>2021</td>\n",
       "      <td>2021-12-20</td>\n",
       "      <td>90.26</td>\n",
       "      <td>Bill</td>\n",
       "      <td>0.40856</td>\n",
       "      <td>0.30843</td>\n",
       "      <td>0.27962</td>\n",
       "      <td>0.031</td>\n",
       "      <td>-0.079910</td>\n",
       "      <td>0.00580</td>\n",
       "      <td>0.03</td>\n",
       "      <td>0.0003</td>\n",
       "      <td>NaN</td>\n",
       "    </tr>\n",
       "  </tbody>\n",
       "</table>\n",
       "</div>"
      ],
      "text/plain": [
       "  month  day  year       date    amt  type  mid_peak_per_kwh  \\\n",
       "0   Apr   21  2022 2022-04-21  30.17  Bill           0.45312   \n",
       "1   Mar   22  2022 2022-03-22  81.48  Bill           0.43767   \n",
       "2   Feb   18  2022 2022-02-18  72.73  Bill           0.41942   \n",
       "3   Jan   21  2022 2022-01-21  89.43  Bill           0.41479   \n",
       "4   Dec   20  2021 2021-12-20  90.26  Bill           0.40856   \n",
       "\n",
       "   off_peak_per_kwh  super_off_peak_per_kwh  base_charge_per_day  \\\n",
       "0           0.34200                 0.31000                0.031   \n",
       "1           0.33154                 0.30128                0.031   \n",
       "2           0.31647                 0.28685                0.031   \n",
       "3           0.31333                 0.28355                0.031   \n",
       "4           0.30843                 0.27962                0.031   \n",
       "\n",
       "   base_credit_per_kwh  DWR_bond_per_kwh  RPV_tax_sub_total  st_tax_per_kwh  \\\n",
       "0            -0.088545           0.00652               0.03          0.0003   \n",
       "1            -0.085275           0.00580               0.03          0.0003   \n",
       "2            -0.082110           0.00580               0.03          0.0003   \n",
       "3            -0.079910           0.00580               0.03          0.0003   \n",
       "4            -0.079910           0.00580               0.03          0.0003   \n",
       "\n",
       "   climate_credit  \n",
       "0           -59.0  \n",
       "1             NaN  \n",
       "2             NaN  \n",
       "3             NaN  \n",
       "4             NaN  "
      ]
     },
     "execution_count": 14,
     "metadata": {},
     "output_type": "execute_result"
    }
   ],
   "source": [
    "bills_df.head()"
   ]
  },
  {
   "cell_type": "code",
   "execution_count": 15,
   "metadata": {},
   "outputs": [
    {
     "data": {
      "text/plain": [
       "month                             object\n",
       "day                                int64\n",
       "year                               int64\n",
       "date                      datetime64[ns]\n",
       "amt                              float64\n",
       "type                              object\n",
       "mid_peak_per_kwh                 float64\n",
       "off_peak_per_kwh                 float64\n",
       "super_off_peak_per_kwh           float64\n",
       "base_charge_per_day              float64\n",
       "base_credit_per_kwh              float64\n",
       "DWR_bond_per_kwh                 float64\n",
       "RPV_tax_sub_total                float64\n",
       "st_tax_per_kwh                   float64\n",
       "climate_credit                   float64\n",
       "dtype: object"
      ]
     },
     "execution_count": 15,
     "metadata": {},
     "output_type": "execute_result"
    }
   ],
   "source": [
    "bills_df.dtypes"
   ]
  },
  {
   "cell_type": "code",
   "execution_count": 7,
   "metadata": {},
   "outputs": [
    {
     "data": {
      "text/html": [
       "<div>\n",
       "<style scoped>\n",
       "    .dataframe tbody tr th:only-of-type {\n",
       "        vertical-align: middle;\n",
       "    }\n",
       "\n",
       "    .dataframe tbody tr th {\n",
       "        vertical-align: top;\n",
       "    }\n",
       "\n",
       "    .dataframe thead th {\n",
       "        text-align: right;\n",
       "    }\n",
       "</style>\n",
       "<table border=\"1\" class=\"dataframe\">\n",
       "  <thead>\n",
       "    <tr style=\"text-align: right;\">\n",
       "      <th></th>\n",
       "      <th>month</th>\n",
       "      <th>day</th>\n",
       "      <th>year</th>\n",
       "      <th>Date</th>\n",
       "      <th>projectedamt</th>\n",
       "      <th>remaining_days_in_billing_cycle</th>\n",
       "    </tr>\n",
       "  </thead>\n",
       "  <tbody>\n",
       "    <tr>\n",
       "      <th>0</th>\n",
       "      <td>May</td>\n",
       "      <td>12</td>\n",
       "      <td>2022</td>\n",
       "      <td>2022-05-12</td>\n",
       "      <td>83.77</td>\n",
       "      <td>8</td>\n",
       "    </tr>\n",
       "    <tr>\n",
       "      <th>1</th>\n",
       "      <td>May</td>\n",
       "      <td>5</td>\n",
       "      <td>2022</td>\n",
       "      <td>2022-05-05</td>\n",
       "      <td>83.85</td>\n",
       "      <td>15</td>\n",
       "    </tr>\n",
       "    <tr>\n",
       "      <th>2</th>\n",
       "      <td>Apr</td>\n",
       "      <td>28</td>\n",
       "      <td>2022</td>\n",
       "      <td>2022-04-28</td>\n",
       "      <td>84.60</td>\n",
       "      <td>22</td>\n",
       "    </tr>\n",
       "    <tr>\n",
       "      <th>3</th>\n",
       "      <td>Apr</td>\n",
       "      <td>12</td>\n",
       "      <td>2022</td>\n",
       "      <td>2022-04-12</td>\n",
       "      <td>27.44</td>\n",
       "      <td>9</td>\n",
       "    </tr>\n",
       "    <tr>\n",
       "      <th>4</th>\n",
       "      <td>Apr</td>\n",
       "      <td>6</td>\n",
       "      <td>2022</td>\n",
       "      <td>2022-04-06</td>\n",
       "      <td>22.58</td>\n",
       "      <td>16</td>\n",
       "    </tr>\n",
       "  </tbody>\n",
       "</table>\n",
       "</div>"
      ],
      "text/plain": [
       "  month  day  year       Date  projectedamt  remaining_days_in_billing_cycle\n",
       "0   May   12  2022 2022-05-12         83.77                                8\n",
       "1   May    5  2022 2022-05-05         83.85                               15\n",
       "2   Apr   28  2022 2022-04-28         84.60                               22\n",
       "3   Apr   12  2022 2022-04-12         27.44                                9\n",
       "4   Apr    6  2022 2022-04-06         22.58                               16"
      ]
     },
     "execution_count": 7,
     "metadata": {},
     "output_type": "execute_result"
    }
   ],
   "source": [
    "projections_df.head()"
   ]
  },
  {
   "cell_type": "code",
   "execution_count": 8,
   "metadata": {},
   "outputs": [
    {
     "data": {
      "text/plain": [
       "month                                      object\n",
       "day                                         int64\n",
       "year                                        int64\n",
       "Date                               datetime64[ns]\n",
       "projectedamt                              float64\n",
       "remaining_days_in_billing_cycle             int64\n",
       "dtype: object"
      ]
     },
     "execution_count": 8,
     "metadata": {},
     "output_type": "execute_result"
    }
   ],
   "source": [
    "projections_df.dtypes"
   ]
  },
  {
   "cell_type": "markdown",
   "metadata": {},
   "source": [
    "Let's build a difference DataFrame, diff_df."
   ]
  },
  {
   "cell_type": "code",
   "execution_count": 115,
   "metadata": {},
   "outputs": [],
   "source": [
    "diff_df = bills_df[['date','amt']]"
   ]
  },
  {
   "cell_type": "markdown",
   "metadata": {},
   "source": [
    "We need to build the interval of time for the particular billing cycle so we can find the projected amounts in each cycle."
   ]
  },
  {
   "cell_type": "code",
   "execution_count": 116,
   "metadata": {},
   "outputs": [
    {
     "data": {
      "text/plain": [
       "0     (2022-03-22, 2022-04-21]\n",
       "1     (2022-02-18, 2022-03-22]\n",
       "2     (2022-01-21, 2022-02-18]\n",
       "3     (2021-12-20, 2022-01-21]\n",
       "4     (2021-11-19, 2021-12-20]\n",
       "5     (2021-10-20, 2021-11-19]\n",
       "6     (2021-09-20, 2021-10-20]\n",
       "7     (2021-08-19, 2021-09-20]\n",
       "8     (2021-07-21, 2021-08-19]\n",
       "9     (2021-06-21, 2021-07-21]\n",
       "10    (2021-05-20, 2021-06-21]\n",
       "11    (2021-04-21, 2021-05-20]\n",
       "12    (2021-03-22, 2021-04-21]\n",
       "13    (2021-02-23, 2021-03-22]\n",
       "14    (2021-01-23, 2021-02-23]\n",
       "15                         NaN\n",
       "Name: bill_interval, dtype: object"
      ]
     },
     "execution_count": 116,
     "metadata": {},
     "output_type": "execute_result"
    }
   ],
   "source": [
    "diff_interval_s = pd.Series(data=[np.nan]*diff_df.index.stop,dtype='object',name='bill_interval')\n",
    "for i,r in diff_df.iterrows():\n",
    "    diff_interval_s.iloc[i] = pd.Interval(diff_df.iloc[i+1,0],r['date'])\n",
    "\n",
    "    # Can't make interval on last row because there is no date previous to that one\n",
    "    if i == (diff_df.index.stop)-2:\n",
    "        break\n",
    "\n",
    "diff_interval_s"
   ]
  },
  {
   "cell_type": "code",
   "execution_count": 117,
   "metadata": {},
   "outputs": [
    {
     "data": {
      "text/html": [
       "<div>\n",
       "<style scoped>\n",
       "    .dataframe tbody tr th:only-of-type {\n",
       "        vertical-align: middle;\n",
       "    }\n",
       "\n",
       "    .dataframe tbody tr th {\n",
       "        vertical-align: top;\n",
       "    }\n",
       "\n",
       "    .dataframe thead th {\n",
       "        text-align: right;\n",
       "    }\n",
       "</style>\n",
       "<table border=\"1\" class=\"dataframe\">\n",
       "  <thead>\n",
       "    <tr style=\"text-align: right;\">\n",
       "      <th></th>\n",
       "      <th>date</th>\n",
       "      <th>amt</th>\n",
       "      <th>bill_interval</th>\n",
       "    </tr>\n",
       "  </thead>\n",
       "  <tbody>\n",
       "    <tr>\n",
       "      <th>0</th>\n",
       "      <td>2022-04-21</td>\n",
       "      <td>30.17</td>\n",
       "      <td>(2022-03-22, 2022-04-21]</td>\n",
       "    </tr>\n",
       "    <tr>\n",
       "      <th>1</th>\n",
       "      <td>2022-03-22</td>\n",
       "      <td>81.48</td>\n",
       "      <td>(2022-02-18, 2022-03-22]</td>\n",
       "    </tr>\n",
       "    <tr>\n",
       "      <th>2</th>\n",
       "      <td>2022-02-18</td>\n",
       "      <td>72.73</td>\n",
       "      <td>(2022-01-21, 2022-02-18]</td>\n",
       "    </tr>\n",
       "    <tr>\n",
       "      <th>3</th>\n",
       "      <td>2022-01-21</td>\n",
       "      <td>89.43</td>\n",
       "      <td>(2021-12-20, 2022-01-21]</td>\n",
       "    </tr>\n",
       "    <tr>\n",
       "      <th>4</th>\n",
       "      <td>2021-12-20</td>\n",
       "      <td>90.26</td>\n",
       "      <td>(2021-11-19, 2021-12-20]</td>\n",
       "    </tr>\n",
       "    <tr>\n",
       "      <th>5</th>\n",
       "      <td>2021-11-19</td>\n",
       "      <td>69.37</td>\n",
       "      <td>(2021-10-20, 2021-11-19]</td>\n",
       "    </tr>\n",
       "    <tr>\n",
       "      <th>6</th>\n",
       "      <td>2021-10-20</td>\n",
       "      <td>44.22</td>\n",
       "      <td>(2021-09-20, 2021-10-20]</td>\n",
       "    </tr>\n",
       "    <tr>\n",
       "      <th>7</th>\n",
       "      <td>2021-09-20</td>\n",
       "      <td>69.65</td>\n",
       "      <td>(2021-08-19, 2021-09-20]</td>\n",
       "    </tr>\n",
       "    <tr>\n",
       "      <th>8</th>\n",
       "      <td>2021-08-19</td>\n",
       "      <td>67.26</td>\n",
       "      <td>(2021-07-21, 2021-08-19]</td>\n",
       "    </tr>\n",
       "    <tr>\n",
       "      <th>9</th>\n",
       "      <td>2021-07-21</td>\n",
       "      <td>75.01</td>\n",
       "      <td>(2021-06-21, 2021-07-21]</td>\n",
       "    </tr>\n",
       "    <tr>\n",
       "      <th>10</th>\n",
       "      <td>2021-06-21</td>\n",
       "      <td>74.58</td>\n",
       "      <td>(2021-05-20, 2021-06-21]</td>\n",
       "    </tr>\n",
       "    <tr>\n",
       "      <th>11</th>\n",
       "      <td>2021-05-20</td>\n",
       "      <td>61.91</td>\n",
       "      <td>(2021-04-21, 2021-05-20]</td>\n",
       "    </tr>\n",
       "    <tr>\n",
       "      <th>12</th>\n",
       "      <td>2021-04-21</td>\n",
       "      <td>40.08</td>\n",
       "      <td>(2021-03-22, 2021-04-21]</td>\n",
       "    </tr>\n",
       "    <tr>\n",
       "      <th>13</th>\n",
       "      <td>2021-03-22</td>\n",
       "      <td>73.22</td>\n",
       "      <td>(2021-02-23, 2021-03-22]</td>\n",
       "    </tr>\n",
       "    <tr>\n",
       "      <th>14</th>\n",
       "      <td>2021-02-23</td>\n",
       "      <td>79.09</td>\n",
       "      <td>(2021-01-23, 2021-02-23]</td>\n",
       "    </tr>\n",
       "  </tbody>\n",
       "</table>\n",
       "</div>"
      ],
      "text/plain": [
       "         date    amt             bill_interval\n",
       "0  2022-04-21  30.17  (2022-03-22, 2022-04-21]\n",
       "1  2022-03-22  81.48  (2022-02-18, 2022-03-22]\n",
       "2  2022-02-18  72.73  (2022-01-21, 2022-02-18]\n",
       "3  2022-01-21  89.43  (2021-12-20, 2022-01-21]\n",
       "4  2021-12-20  90.26  (2021-11-19, 2021-12-20]\n",
       "5  2021-11-19  69.37  (2021-10-20, 2021-11-19]\n",
       "6  2021-10-20  44.22  (2021-09-20, 2021-10-20]\n",
       "7  2021-09-20  69.65  (2021-08-19, 2021-09-20]\n",
       "8  2021-08-19  67.26  (2021-07-21, 2021-08-19]\n",
       "9  2021-07-21  75.01  (2021-06-21, 2021-07-21]\n",
       "10 2021-06-21  74.58  (2021-05-20, 2021-06-21]\n",
       "11 2021-05-20  61.91  (2021-04-21, 2021-05-20]\n",
       "12 2021-04-21  40.08  (2021-03-22, 2021-04-21]\n",
       "13 2021-03-22  73.22  (2021-02-23, 2021-03-22]\n",
       "14 2021-02-23  79.09  (2021-01-23, 2021-02-23]"
      ]
     },
     "execution_count": 117,
     "metadata": {},
     "output_type": "execute_result"
    }
   ],
   "source": [
    "# Drop the last row with NaN interval\n",
    "diff_df = pd.concat([diff_df,diff_interval_s],axis=1).dropna()\n",
    "diff_df"
   ]
  },
  {
   "cell_type": "code",
   "execution_count": 84,
   "metadata": {},
   "outputs": [
    {
     "data": {
      "text/html": [
       "<div>\n",
       "<style scoped>\n",
       "    .dataframe tbody tr th:only-of-type {\n",
       "        vertical-align: middle;\n",
       "    }\n",
       "\n",
       "    .dataframe tbody tr th {\n",
       "        vertical-align: top;\n",
       "    }\n",
       "\n",
       "    .dataframe thead th {\n",
       "        text-align: right;\n",
       "    }\n",
       "</style>\n",
       "<table border=\"1\" class=\"dataframe\">\n",
       "  <thead>\n",
       "    <tr style=\"text-align: right;\">\n",
       "      <th></th>\n",
       "      <th>month</th>\n",
       "      <th>day</th>\n",
       "      <th>year</th>\n",
       "      <th>date</th>\n",
       "      <th>projectedamt</th>\n",
       "      <th>remaining_days_in_billing_cycle</th>\n",
       "    </tr>\n",
       "  </thead>\n",
       "  <tbody>\n",
       "    <tr>\n",
       "      <th>3</th>\n",
       "      <td>Apr</td>\n",
       "      <td>12</td>\n",
       "      <td>2022</td>\n",
       "      <td>2022-04-12</td>\n",
       "      <td>27.44</td>\n",
       "      <td>9</td>\n",
       "    </tr>\n",
       "    <tr>\n",
       "      <th>4</th>\n",
       "      <td>Apr</td>\n",
       "      <td>6</td>\n",
       "      <td>2022</td>\n",
       "      <td>2022-04-06</td>\n",
       "      <td>22.58</td>\n",
       "      <td>16</td>\n",
       "    </tr>\n",
       "    <tr>\n",
       "      <th>5</th>\n",
       "      <td>Mar</td>\n",
       "      <td>30</td>\n",
       "      <td>2022</td>\n",
       "      <td>2022-03-30</td>\n",
       "      <td>16.35</td>\n",
       "      <td>23</td>\n",
       "    </tr>\n",
       "  </tbody>\n",
       "</table>\n",
       "</div>"
      ],
      "text/plain": [
       "  month  day  year       date  projectedamt  remaining_days_in_billing_cycle\n",
       "3   Apr   12  2022 2022-04-12         27.44                                9\n",
       "4   Apr    6  2022 2022-04-06         22.58                               16\n",
       "5   Mar   30  2022 2022-03-30         16.35                               23"
      ]
     },
     "execution_count": 84,
     "metadata": {},
     "output_type": "execute_result"
    }
   ],
   "source": [
    "# Find projected amounts for a bill interval. Let's try with one.\n",
    "projections_df[projections_df['date'].map(lambda date: date in(diff_df.iloc[0]['bill_interval']))]"
   ]
  },
  {
   "cell_type": "code",
   "execution_count": 85,
   "metadata": {},
   "outputs": [
    {
     "data": {
      "text/plain": [
       "27.44"
      ]
     },
     "execution_count": 85,
     "metadata": {},
     "output_type": "execute_result"
    }
   ],
   "source": [
    "# Find most recent projected amount for a bill interval\n",
    "projections_df[projections_df['date'].map(lambda date: date in(diff_df.iloc[0]['bill_interval']))].sort_values(by='date',ascending=False).iloc[0]['projectedamt']"
   ]
  },
  {
   "cell_type": "markdown",
   "metadata": {},
   "source": [
    "Find the most recent projected amounts for each billing interval. For some intervals, I did not have any projected amounts so those are NaN."
   ]
  },
  {
   "cell_type": "code",
   "execution_count": 118,
   "metadata": {},
   "outputs": [
    {
     "data": {
      "text/html": [
       "<div>\n",
       "<style scoped>\n",
       "    .dataframe tbody tr th:only-of-type {\n",
       "        vertical-align: middle;\n",
       "    }\n",
       "\n",
       "    .dataframe tbody tr th {\n",
       "        vertical-align: top;\n",
       "    }\n",
       "\n",
       "    .dataframe thead th {\n",
       "        text-align: right;\n",
       "    }\n",
       "</style>\n",
       "<table border=\"1\" class=\"dataframe\">\n",
       "  <thead>\n",
       "    <tr style=\"text-align: right;\">\n",
       "      <th></th>\n",
       "      <th>date</th>\n",
       "      <th>amt</th>\n",
       "      <th>bill_interval</th>\n",
       "      <th>most_recent_projected_amt</th>\n",
       "    </tr>\n",
       "  </thead>\n",
       "  <tbody>\n",
       "    <tr>\n",
       "      <th>0</th>\n",
       "      <td>2022-04-21</td>\n",
       "      <td>30.17</td>\n",
       "      <td>(2022-03-22, 2022-04-21]</td>\n",
       "      <td>27.44</td>\n",
       "    </tr>\n",
       "    <tr>\n",
       "      <th>1</th>\n",
       "      <td>2022-03-22</td>\n",
       "      <td>81.48</td>\n",
       "      <td>(2022-02-18, 2022-03-22]</td>\n",
       "      <td>84.66</td>\n",
       "    </tr>\n",
       "    <tr>\n",
       "      <th>2</th>\n",
       "      <td>2022-02-18</td>\n",
       "      <td>72.73</td>\n",
       "      <td>(2022-01-21, 2022-02-18]</td>\n",
       "      <td>74.28</td>\n",
       "    </tr>\n",
       "    <tr>\n",
       "      <th>3</th>\n",
       "      <td>2022-01-21</td>\n",
       "      <td>89.43</td>\n",
       "      <td>(2021-12-20, 2022-01-21]</td>\n",
       "      <td>95.86</td>\n",
       "    </tr>\n",
       "    <tr>\n",
       "      <th>4</th>\n",
       "      <td>2021-12-20</td>\n",
       "      <td>90.26</td>\n",
       "      <td>(2021-11-19, 2021-12-20]</td>\n",
       "      <td>86.92</td>\n",
       "    </tr>\n",
       "    <tr>\n",
       "      <th>5</th>\n",
       "      <td>2021-11-19</td>\n",
       "      <td>69.37</td>\n",
       "      <td>(2021-10-20, 2021-11-19]</td>\n",
       "      <td>70.35</td>\n",
       "    </tr>\n",
       "    <tr>\n",
       "      <th>6</th>\n",
       "      <td>2021-10-20</td>\n",
       "      <td>44.22</td>\n",
       "      <td>(2021-09-20, 2021-10-20]</td>\n",
       "      <td>NaN</td>\n",
       "    </tr>\n",
       "    <tr>\n",
       "      <th>7</th>\n",
       "      <td>2021-09-20</td>\n",
       "      <td>69.65</td>\n",
       "      <td>(2021-08-19, 2021-09-20]</td>\n",
       "      <td>NaN</td>\n",
       "    </tr>\n",
       "    <tr>\n",
       "      <th>8</th>\n",
       "      <td>2021-08-19</td>\n",
       "      <td>67.26</td>\n",
       "      <td>(2021-07-21, 2021-08-19]</td>\n",
       "      <td>NaN</td>\n",
       "    </tr>\n",
       "    <tr>\n",
       "      <th>9</th>\n",
       "      <td>2021-07-21</td>\n",
       "      <td>75.01</td>\n",
       "      <td>(2021-06-21, 2021-07-21]</td>\n",
       "      <td>NaN</td>\n",
       "    </tr>\n",
       "    <tr>\n",
       "      <th>10</th>\n",
       "      <td>2021-06-21</td>\n",
       "      <td>74.58</td>\n",
       "      <td>(2021-05-20, 2021-06-21]</td>\n",
       "      <td>NaN</td>\n",
       "    </tr>\n",
       "    <tr>\n",
       "      <th>11</th>\n",
       "      <td>2021-05-20</td>\n",
       "      <td>61.91</td>\n",
       "      <td>(2021-04-21, 2021-05-20]</td>\n",
       "      <td>61.58</td>\n",
       "    </tr>\n",
       "    <tr>\n",
       "      <th>12</th>\n",
       "      <td>2021-04-21</td>\n",
       "      <td>40.08</td>\n",
       "      <td>(2021-03-22, 2021-04-21]</td>\n",
       "      <td>NaN</td>\n",
       "    </tr>\n",
       "    <tr>\n",
       "      <th>13</th>\n",
       "      <td>2021-03-22</td>\n",
       "      <td>73.22</td>\n",
       "      <td>(2021-02-23, 2021-03-22]</td>\n",
       "      <td>69.0</td>\n",
       "    </tr>\n",
       "    <tr>\n",
       "      <th>14</th>\n",
       "      <td>2021-02-23</td>\n",
       "      <td>79.09</td>\n",
       "      <td>(2021-01-23, 2021-02-23]</td>\n",
       "      <td>78.0</td>\n",
       "    </tr>\n",
       "  </tbody>\n",
       "</table>\n",
       "</div>"
      ],
      "text/plain": [
       "         date    amt             bill_interval most_recent_projected_amt\n",
       "0  2022-04-21  30.17  (2022-03-22, 2022-04-21]                     27.44\n",
       "1  2022-03-22  81.48  (2022-02-18, 2022-03-22]                     84.66\n",
       "2  2022-02-18  72.73  (2022-01-21, 2022-02-18]                     74.28\n",
       "3  2022-01-21  89.43  (2021-12-20, 2022-01-21]                     95.86\n",
       "4  2021-12-20  90.26  (2021-11-19, 2021-12-20]                     86.92\n",
       "5  2021-11-19  69.37  (2021-10-20, 2021-11-19]                     70.35\n",
       "6  2021-10-20  44.22  (2021-09-20, 2021-10-20]                       NaN\n",
       "7  2021-09-20  69.65  (2021-08-19, 2021-09-20]                       NaN\n",
       "8  2021-08-19  67.26  (2021-07-21, 2021-08-19]                       NaN\n",
       "9  2021-07-21  75.01  (2021-06-21, 2021-07-21]                       NaN\n",
       "10 2021-06-21  74.58  (2021-05-20, 2021-06-21]                       NaN\n",
       "11 2021-05-20  61.91  (2021-04-21, 2021-05-20]                     61.58\n",
       "12 2021-04-21  40.08  (2021-03-22, 2021-04-21]                       NaN\n",
       "13 2021-03-22  73.22  (2021-02-23, 2021-03-22]                      69.0\n",
       "14 2021-02-23  79.09  (2021-01-23, 2021-02-23]                      78.0"
      ]
     },
     "execution_count": 118,
     "metadata": {},
     "output_type": "execute_result"
    }
   ],
   "source": [
    "most_recent_projected_amt_s = pd.Series(data=[np.nan]*len(diff_df.index),dtype='object',name='most_recent_projected_amt')\n",
    "for i in diff_df.index:\n",
    "    projections_in_interval_df = projections_df[projections_df['date'].map(lambda date: date in(diff_df.iloc[i]['bill_interval']))]\n",
    "    if not projections_in_interval_df.empty:\n",
    "        most_recent_projected_amt_s.iloc[i]= projections_in_interval_df.sort_values(by='date',ascending=False).iloc[0]['projectedamt']\n",
    "diff_df = pd.concat([diff_df,most_recent_projected_amt_s],axis=1)\n",
    "diff_df"
   ]
  },
  {
   "cell_type": "markdown",
   "metadata": {},
   "source": [
    "Now let's add an error column so we can compute some stats and generate some visualizations."
   ]
  },
  {
   "cell_type": "code",
   "execution_count": 121,
   "metadata": {},
   "outputs": [
    {
     "data": {
      "text/html": [
       "<div>\n",
       "<style scoped>\n",
       "    .dataframe tbody tr th:only-of-type {\n",
       "        vertical-align: middle;\n",
       "    }\n",
       "\n",
       "    .dataframe tbody tr th {\n",
       "        vertical-align: top;\n",
       "    }\n",
       "\n",
       "    .dataframe thead th {\n",
       "        text-align: right;\n",
       "    }\n",
       "</style>\n",
       "<table border=\"1\" class=\"dataframe\">\n",
       "  <thead>\n",
       "    <tr style=\"text-align: right;\">\n",
       "      <th></th>\n",
       "      <th>date</th>\n",
       "      <th>amt</th>\n",
       "      <th>bill_interval</th>\n",
       "      <th>most_recent_projected_amt</th>\n",
       "      <th>error</th>\n",
       "    </tr>\n",
       "  </thead>\n",
       "  <tbody>\n",
       "    <tr>\n",
       "      <th>0</th>\n",
       "      <td>2022-04-21</td>\n",
       "      <td>30.17</td>\n",
       "      <td>(2022-03-22, 2022-04-21]</td>\n",
       "      <td>27.44</td>\n",
       "      <td>-2.73</td>\n",
       "    </tr>\n",
       "    <tr>\n",
       "      <th>1</th>\n",
       "      <td>2022-03-22</td>\n",
       "      <td>81.48</td>\n",
       "      <td>(2022-02-18, 2022-03-22]</td>\n",
       "      <td>84.66</td>\n",
       "      <td>3.18</td>\n",
       "    </tr>\n",
       "    <tr>\n",
       "      <th>2</th>\n",
       "      <td>2022-02-18</td>\n",
       "      <td>72.73</td>\n",
       "      <td>(2022-01-21, 2022-02-18]</td>\n",
       "      <td>74.28</td>\n",
       "      <td>1.55</td>\n",
       "    </tr>\n",
       "    <tr>\n",
       "      <th>3</th>\n",
       "      <td>2022-01-21</td>\n",
       "      <td>89.43</td>\n",
       "      <td>(2021-12-20, 2022-01-21]</td>\n",
       "      <td>95.86</td>\n",
       "      <td>6.43</td>\n",
       "    </tr>\n",
       "    <tr>\n",
       "      <th>4</th>\n",
       "      <td>2021-12-20</td>\n",
       "      <td>90.26</td>\n",
       "      <td>(2021-11-19, 2021-12-20]</td>\n",
       "      <td>86.92</td>\n",
       "      <td>-3.34</td>\n",
       "    </tr>\n",
       "    <tr>\n",
       "      <th>5</th>\n",
       "      <td>2021-11-19</td>\n",
       "      <td>69.37</td>\n",
       "      <td>(2021-10-20, 2021-11-19]</td>\n",
       "      <td>70.35</td>\n",
       "      <td>0.98</td>\n",
       "    </tr>\n",
       "    <tr>\n",
       "      <th>6</th>\n",
       "      <td>2021-10-20</td>\n",
       "      <td>44.22</td>\n",
       "      <td>(2021-09-20, 2021-10-20]</td>\n",
       "      <td>NaN</td>\n",
       "      <td>NaN</td>\n",
       "    </tr>\n",
       "    <tr>\n",
       "      <th>7</th>\n",
       "      <td>2021-09-20</td>\n",
       "      <td>69.65</td>\n",
       "      <td>(2021-08-19, 2021-09-20]</td>\n",
       "      <td>NaN</td>\n",
       "      <td>NaN</td>\n",
       "    </tr>\n",
       "    <tr>\n",
       "      <th>8</th>\n",
       "      <td>2021-08-19</td>\n",
       "      <td>67.26</td>\n",
       "      <td>(2021-07-21, 2021-08-19]</td>\n",
       "      <td>NaN</td>\n",
       "      <td>NaN</td>\n",
       "    </tr>\n",
       "    <tr>\n",
       "      <th>9</th>\n",
       "      <td>2021-07-21</td>\n",
       "      <td>75.01</td>\n",
       "      <td>(2021-06-21, 2021-07-21]</td>\n",
       "      <td>NaN</td>\n",
       "      <td>NaN</td>\n",
       "    </tr>\n",
       "    <tr>\n",
       "      <th>10</th>\n",
       "      <td>2021-06-21</td>\n",
       "      <td>74.58</td>\n",
       "      <td>(2021-05-20, 2021-06-21]</td>\n",
       "      <td>NaN</td>\n",
       "      <td>NaN</td>\n",
       "    </tr>\n",
       "    <tr>\n",
       "      <th>11</th>\n",
       "      <td>2021-05-20</td>\n",
       "      <td>61.91</td>\n",
       "      <td>(2021-04-21, 2021-05-20]</td>\n",
       "      <td>61.58</td>\n",
       "      <td>-0.33</td>\n",
       "    </tr>\n",
       "    <tr>\n",
       "      <th>12</th>\n",
       "      <td>2021-04-21</td>\n",
       "      <td>40.08</td>\n",
       "      <td>(2021-03-22, 2021-04-21]</td>\n",
       "      <td>NaN</td>\n",
       "      <td>NaN</td>\n",
       "    </tr>\n",
       "    <tr>\n",
       "      <th>13</th>\n",
       "      <td>2021-03-22</td>\n",
       "      <td>73.22</td>\n",
       "      <td>(2021-02-23, 2021-03-22]</td>\n",
       "      <td>69.0</td>\n",
       "      <td>-4.22</td>\n",
       "    </tr>\n",
       "    <tr>\n",
       "      <th>14</th>\n",
       "      <td>2021-02-23</td>\n",
       "      <td>79.09</td>\n",
       "      <td>(2021-01-23, 2021-02-23]</td>\n",
       "      <td>78.0</td>\n",
       "      <td>-1.09</td>\n",
       "    </tr>\n",
       "  </tbody>\n",
       "</table>\n",
       "</div>"
      ],
      "text/plain": [
       "         date    amt             bill_interval most_recent_projected_amt error\n",
       "0  2022-04-21  30.17  (2022-03-22, 2022-04-21]                     27.44 -2.73\n",
       "1  2022-03-22  81.48  (2022-02-18, 2022-03-22]                     84.66  3.18\n",
       "2  2022-02-18  72.73  (2022-01-21, 2022-02-18]                     74.28  1.55\n",
       "3  2022-01-21  89.43  (2021-12-20, 2022-01-21]                     95.86  6.43\n",
       "4  2021-12-20  90.26  (2021-11-19, 2021-12-20]                     86.92 -3.34\n",
       "5  2021-11-19  69.37  (2021-10-20, 2021-11-19]                     70.35  0.98\n",
       "6  2021-10-20  44.22  (2021-09-20, 2021-10-20]                       NaN   NaN\n",
       "7  2021-09-20  69.65  (2021-08-19, 2021-09-20]                       NaN   NaN\n",
       "8  2021-08-19  67.26  (2021-07-21, 2021-08-19]                       NaN   NaN\n",
       "9  2021-07-21  75.01  (2021-06-21, 2021-07-21]                       NaN   NaN\n",
       "10 2021-06-21  74.58  (2021-05-20, 2021-06-21]                       NaN   NaN\n",
       "11 2021-05-20  61.91  (2021-04-21, 2021-05-20]                     61.58 -0.33\n",
       "12 2021-04-21  40.08  (2021-03-22, 2021-04-21]                       NaN   NaN\n",
       "13 2021-03-22  73.22  (2021-02-23, 2021-03-22]                      69.0 -4.22\n",
       "14 2021-02-23  79.09  (2021-01-23, 2021-02-23]                      78.0 -1.09"
      ]
     },
     "execution_count": 121,
     "metadata": {},
     "output_type": "execute_result"
    }
   ],
   "source": [
    "diff_df['error'] = diff_df['most_recent_projected_amt']-diff_df['amt']\n",
    "diff_df"
   ]
  },
  {
   "cell_type": "markdown",
   "metadata": {},
   "source": [
    "### Not bad. Not bad.\n",
    "\n",
    "The mean projected error is only $0.05. Some months are a little high. Some are a little low.\n",
    "\n",
    "The absolute error is still pretty small: $2.65. With a mean absolute error percentage of 3.9%"
   ]
  },
  {
   "cell_type": "code",
   "execution_count": 135,
   "metadata": {},
   "outputs": [
    {
     "name": "stdout",
     "output_type": "stream",
     "text": [
      "Mean projected error: $0.05\n",
      "Mean projected absolute error: $2.65\n",
      "Mean percent error: -0.64%\n",
      "Mean percent absolute error: 3.90%\n",
      "Projected error variance: 11.56\n"
     ]
    }
   ],
   "source": [
    "print(f\"Mean projected error: ${diff_df['error'].mean():1.2f}\")\n",
    "print(f\"Mean projected absolute error: ${diff_df['error'].abs().mean():1.2f}\")\n",
    "print(f\"Mean percent error: {(diff_df['error']/diff_df['amt']).mean():1.2%}\")\n",
    "print(f\"Mean percent absolute error: {(diff_df['error']/diff_df['amt']).abs().mean():1.2%}\")\n",
    "print(f\"Projected error variance: {diff_df['error'].var():1.2f}\")"
   ]
  },
  {
   "cell_type": "markdown",
   "metadata": {},
   "source": [
    "### Visualize the actuals and projections\n",
    "\n",
    "Let's see the projected amounts compared to actual. Remember, you can have up to three projections before the actual bill."
   ]
  },
  {
   "cell_type": "code",
   "execution_count": 33,
   "metadata": {},
   "outputs": [
    {
     "data": {
      "application/vnd.plotly.v1+json": {
       "config": {
        "plotlyServerURL": "https://plot.ly"
       },
       "data": [
        {
         "marker": {
          "color": "darkblue"
         },
         "name": "Actual Bill Amt",
         "type": "bar",
         "x": [
          "2022-04-21T00:00:00",
          "2022-03-22T00:00:00",
          "2022-02-18T00:00:00",
          "2022-01-21T00:00:00",
          "2021-12-20T00:00:00",
          "2021-11-19T00:00:00",
          "2021-10-20T00:00:00",
          "2021-09-20T00:00:00",
          "2021-08-19T00:00:00",
          "2021-07-21T00:00:00",
          "2021-06-21T00:00:00",
          "2021-05-20T00:00:00",
          "2021-04-21T00:00:00",
          "2021-03-22T00:00:00",
          "2021-02-23T00:00:00",
          "2021-01-23T00:00:00"
         ],
         "y": [
          30.17,
          81.48,
          72.73,
          89.43,
          90.26,
          69.37,
          44.22,
          69.65,
          67.26,
          75.01,
          74.58,
          61.91,
          40.08,
          73.22,
          79.09,
          81.1
         ]
        },
        {
         "marker": {
          "color": "dodgerblue"
         },
         "name": "Projected Bill Amt",
         "type": "bar",
         "x": [
          "2022-05-12T00:00:00",
          "2022-05-05T00:00:00",
          "2022-04-28T00:00:00",
          "2022-04-12T00:00:00",
          "2022-04-06T00:00:00",
          "2022-03-30T00:00:00",
          "2022-03-11T00:00:00",
          "2022-02-25T00:00:00",
          "2022-02-07T00:00:00",
          "2022-02-04T00:00:00",
          "2022-01-28T00:00:00",
          "2022-01-03T00:00:00",
          "2021-12-10T00:00:00",
          "2021-12-03T00:00:00",
          "2021-11-26T00:00:00",
          "2021-11-10T00:00:00",
          "2021-11-03T00:00:00",
          "2021-10-27T00:00:00",
          "2021-05-13T00:00:00",
          "2021-05-06T00:00:00",
          "2021-04-29T00:00:00",
          "2021-03-16T00:00:00",
          "2021-03-09T00:00:00",
          "2021-03-02T00:00:00",
          "2021-02-13T00:00:00",
          "2021-02-06T00:00:00",
          "2021-01-30T00:00:00",
          "2021-01-12T00:00:00",
          "2021-01-05T00:00:00"
         ],
         "y": [
          83.77,
          83.85,
          84.6,
          27.44,
          22.58,
          16.35,
          84.66,
          88.39,
          74.28,
          75.5,
          73.58,
          95.86,
          86.92,
          92.39,
          87.67,
          70.35,
          71.96,
          72.94,
          61.58,
          61.11,
          62.7,
          69,
          66,
          66,
          78,
          79,
          84,
          88,
          90
         ]
        }
       ],
       "layout": {
        "template": {
         "data": {
          "bar": [
           {
            "error_x": {
             "color": "#2a3f5f"
            },
            "error_y": {
             "color": "#2a3f5f"
            },
            "marker": {
             "line": {
              "color": "#E5ECF6",
              "width": 0.5
             },
             "pattern": {
              "fillmode": "overlay",
              "size": 10,
              "solidity": 0.2
             }
            },
            "type": "bar"
           }
          ],
          "barpolar": [
           {
            "marker": {
             "line": {
              "color": "#E5ECF6",
              "width": 0.5
             },
             "pattern": {
              "fillmode": "overlay",
              "size": 10,
              "solidity": 0.2
             }
            },
            "type": "barpolar"
           }
          ],
          "carpet": [
           {
            "aaxis": {
             "endlinecolor": "#2a3f5f",
             "gridcolor": "white",
             "linecolor": "white",
             "minorgridcolor": "white",
             "startlinecolor": "#2a3f5f"
            },
            "baxis": {
             "endlinecolor": "#2a3f5f",
             "gridcolor": "white",
             "linecolor": "white",
             "minorgridcolor": "white",
             "startlinecolor": "#2a3f5f"
            },
            "type": "carpet"
           }
          ],
          "choropleth": [
           {
            "colorbar": {
             "outlinewidth": 0,
             "ticks": ""
            },
            "type": "choropleth"
           }
          ],
          "contour": [
           {
            "colorbar": {
             "outlinewidth": 0,
             "ticks": ""
            },
            "colorscale": [
             [
              0,
              "#0d0887"
             ],
             [
              0.1111111111111111,
              "#46039f"
             ],
             [
              0.2222222222222222,
              "#7201a8"
             ],
             [
              0.3333333333333333,
              "#9c179e"
             ],
             [
              0.4444444444444444,
              "#bd3786"
             ],
             [
              0.5555555555555556,
              "#d8576b"
             ],
             [
              0.6666666666666666,
              "#ed7953"
             ],
             [
              0.7777777777777778,
              "#fb9f3a"
             ],
             [
              0.8888888888888888,
              "#fdca26"
             ],
             [
              1,
              "#f0f921"
             ]
            ],
            "type": "contour"
           }
          ],
          "contourcarpet": [
           {
            "colorbar": {
             "outlinewidth": 0,
             "ticks": ""
            },
            "type": "contourcarpet"
           }
          ],
          "heatmap": [
           {
            "colorbar": {
             "outlinewidth": 0,
             "ticks": ""
            },
            "colorscale": [
             [
              0,
              "#0d0887"
             ],
             [
              0.1111111111111111,
              "#46039f"
             ],
             [
              0.2222222222222222,
              "#7201a8"
             ],
             [
              0.3333333333333333,
              "#9c179e"
             ],
             [
              0.4444444444444444,
              "#bd3786"
             ],
             [
              0.5555555555555556,
              "#d8576b"
             ],
             [
              0.6666666666666666,
              "#ed7953"
             ],
             [
              0.7777777777777778,
              "#fb9f3a"
             ],
             [
              0.8888888888888888,
              "#fdca26"
             ],
             [
              1,
              "#f0f921"
             ]
            ],
            "type": "heatmap"
           }
          ],
          "heatmapgl": [
           {
            "colorbar": {
             "outlinewidth": 0,
             "ticks": ""
            },
            "colorscale": [
             [
              0,
              "#0d0887"
             ],
             [
              0.1111111111111111,
              "#46039f"
             ],
             [
              0.2222222222222222,
              "#7201a8"
             ],
             [
              0.3333333333333333,
              "#9c179e"
             ],
             [
              0.4444444444444444,
              "#bd3786"
             ],
             [
              0.5555555555555556,
              "#d8576b"
             ],
             [
              0.6666666666666666,
              "#ed7953"
             ],
             [
              0.7777777777777778,
              "#fb9f3a"
             ],
             [
              0.8888888888888888,
              "#fdca26"
             ],
             [
              1,
              "#f0f921"
             ]
            ],
            "type": "heatmapgl"
           }
          ],
          "histogram": [
           {
            "marker": {
             "pattern": {
              "fillmode": "overlay",
              "size": 10,
              "solidity": 0.2
             }
            },
            "type": "histogram"
           }
          ],
          "histogram2d": [
           {
            "colorbar": {
             "outlinewidth": 0,
             "ticks": ""
            },
            "colorscale": [
             [
              0,
              "#0d0887"
             ],
             [
              0.1111111111111111,
              "#46039f"
             ],
             [
              0.2222222222222222,
              "#7201a8"
             ],
             [
              0.3333333333333333,
              "#9c179e"
             ],
             [
              0.4444444444444444,
              "#bd3786"
             ],
             [
              0.5555555555555556,
              "#d8576b"
             ],
             [
              0.6666666666666666,
              "#ed7953"
             ],
             [
              0.7777777777777778,
              "#fb9f3a"
             ],
             [
              0.8888888888888888,
              "#fdca26"
             ],
             [
              1,
              "#f0f921"
             ]
            ],
            "type": "histogram2d"
           }
          ],
          "histogram2dcontour": [
           {
            "colorbar": {
             "outlinewidth": 0,
             "ticks": ""
            },
            "colorscale": [
             [
              0,
              "#0d0887"
             ],
             [
              0.1111111111111111,
              "#46039f"
             ],
             [
              0.2222222222222222,
              "#7201a8"
             ],
             [
              0.3333333333333333,
              "#9c179e"
             ],
             [
              0.4444444444444444,
              "#bd3786"
             ],
             [
              0.5555555555555556,
              "#d8576b"
             ],
             [
              0.6666666666666666,
              "#ed7953"
             ],
             [
              0.7777777777777778,
              "#fb9f3a"
             ],
             [
              0.8888888888888888,
              "#fdca26"
             ],
             [
              1,
              "#f0f921"
             ]
            ],
            "type": "histogram2dcontour"
           }
          ],
          "mesh3d": [
           {
            "colorbar": {
             "outlinewidth": 0,
             "ticks": ""
            },
            "type": "mesh3d"
           }
          ],
          "parcoords": [
           {
            "line": {
             "colorbar": {
              "outlinewidth": 0,
              "ticks": ""
             }
            },
            "type": "parcoords"
           }
          ],
          "pie": [
           {
            "automargin": true,
            "type": "pie"
           }
          ],
          "scatter": [
           {
            "fillpattern": {
             "fillmode": "overlay",
             "size": 10,
             "solidity": 0.2
            },
            "type": "scatter"
           }
          ],
          "scatter3d": [
           {
            "line": {
             "colorbar": {
              "outlinewidth": 0,
              "ticks": ""
             }
            },
            "marker": {
             "colorbar": {
              "outlinewidth": 0,
              "ticks": ""
             }
            },
            "type": "scatter3d"
           }
          ],
          "scattercarpet": [
           {
            "marker": {
             "colorbar": {
              "outlinewidth": 0,
              "ticks": ""
             }
            },
            "type": "scattercarpet"
           }
          ],
          "scattergeo": [
           {
            "marker": {
             "colorbar": {
              "outlinewidth": 0,
              "ticks": ""
             }
            },
            "type": "scattergeo"
           }
          ],
          "scattergl": [
           {
            "marker": {
             "colorbar": {
              "outlinewidth": 0,
              "ticks": ""
             }
            },
            "type": "scattergl"
           }
          ],
          "scattermapbox": [
           {
            "marker": {
             "colorbar": {
              "outlinewidth": 0,
              "ticks": ""
             }
            },
            "type": "scattermapbox"
           }
          ],
          "scatterpolar": [
           {
            "marker": {
             "colorbar": {
              "outlinewidth": 0,
              "ticks": ""
             }
            },
            "type": "scatterpolar"
           }
          ],
          "scatterpolargl": [
           {
            "marker": {
             "colorbar": {
              "outlinewidth": 0,
              "ticks": ""
             }
            },
            "type": "scatterpolargl"
           }
          ],
          "scatterternary": [
           {
            "marker": {
             "colorbar": {
              "outlinewidth": 0,
              "ticks": ""
             }
            },
            "type": "scatterternary"
           }
          ],
          "surface": [
           {
            "colorbar": {
             "outlinewidth": 0,
             "ticks": ""
            },
            "colorscale": [
             [
              0,
              "#0d0887"
             ],
             [
              0.1111111111111111,
              "#46039f"
             ],
             [
              0.2222222222222222,
              "#7201a8"
             ],
             [
              0.3333333333333333,
              "#9c179e"
             ],
             [
              0.4444444444444444,
              "#bd3786"
             ],
             [
              0.5555555555555556,
              "#d8576b"
             ],
             [
              0.6666666666666666,
              "#ed7953"
             ],
             [
              0.7777777777777778,
              "#fb9f3a"
             ],
             [
              0.8888888888888888,
              "#fdca26"
             ],
             [
              1,
              "#f0f921"
             ]
            ],
            "type": "surface"
           }
          ],
          "table": [
           {
            "cells": {
             "fill": {
              "color": "#EBF0F8"
             },
             "line": {
              "color": "white"
             }
            },
            "header": {
             "fill": {
              "color": "#C8D4E3"
             },
             "line": {
              "color": "white"
             }
            },
            "type": "table"
           }
          ]
         },
         "layout": {
          "annotationdefaults": {
           "arrowcolor": "#2a3f5f",
           "arrowhead": 0,
           "arrowwidth": 1
          },
          "autotypenumbers": "strict",
          "coloraxis": {
           "colorbar": {
            "outlinewidth": 0,
            "ticks": ""
           }
          },
          "colorscale": {
           "diverging": [
            [
             0,
             "#8e0152"
            ],
            [
             0.1,
             "#c51b7d"
            ],
            [
             0.2,
             "#de77ae"
            ],
            [
             0.3,
             "#f1b6da"
            ],
            [
             0.4,
             "#fde0ef"
            ],
            [
             0.5,
             "#f7f7f7"
            ],
            [
             0.6,
             "#e6f5d0"
            ],
            [
             0.7,
             "#b8e186"
            ],
            [
             0.8,
             "#7fbc41"
            ],
            [
             0.9,
             "#4d9221"
            ],
            [
             1,
             "#276419"
            ]
           ],
           "sequential": [
            [
             0,
             "#0d0887"
            ],
            [
             0.1111111111111111,
             "#46039f"
            ],
            [
             0.2222222222222222,
             "#7201a8"
            ],
            [
             0.3333333333333333,
             "#9c179e"
            ],
            [
             0.4444444444444444,
             "#bd3786"
            ],
            [
             0.5555555555555556,
             "#d8576b"
            ],
            [
             0.6666666666666666,
             "#ed7953"
            ],
            [
             0.7777777777777778,
             "#fb9f3a"
            ],
            [
             0.8888888888888888,
             "#fdca26"
            ],
            [
             1,
             "#f0f921"
            ]
           ],
           "sequentialminus": [
            [
             0,
             "#0d0887"
            ],
            [
             0.1111111111111111,
             "#46039f"
            ],
            [
             0.2222222222222222,
             "#7201a8"
            ],
            [
             0.3333333333333333,
             "#9c179e"
            ],
            [
             0.4444444444444444,
             "#bd3786"
            ],
            [
             0.5555555555555556,
             "#d8576b"
            ],
            [
             0.6666666666666666,
             "#ed7953"
            ],
            [
             0.7777777777777778,
             "#fb9f3a"
            ],
            [
             0.8888888888888888,
             "#fdca26"
            ],
            [
             1,
             "#f0f921"
            ]
           ]
          },
          "colorway": [
           "#636efa",
           "#EF553B",
           "#00cc96",
           "#ab63fa",
           "#FFA15A",
           "#19d3f3",
           "#FF6692",
           "#B6E880",
           "#FF97FF",
           "#FECB52"
          ],
          "font": {
           "color": "#2a3f5f"
          },
          "geo": {
           "bgcolor": "white",
           "lakecolor": "white",
           "landcolor": "#E5ECF6",
           "showlakes": true,
           "showland": true,
           "subunitcolor": "white"
          },
          "hoverlabel": {
           "align": "left"
          },
          "hovermode": "closest",
          "mapbox": {
           "style": "light"
          },
          "paper_bgcolor": "white",
          "plot_bgcolor": "#E5ECF6",
          "polar": {
           "angularaxis": {
            "gridcolor": "white",
            "linecolor": "white",
            "ticks": ""
           },
           "bgcolor": "#E5ECF6",
           "radialaxis": {
            "gridcolor": "white",
            "linecolor": "white",
            "ticks": ""
           }
          },
          "scene": {
           "xaxis": {
            "backgroundcolor": "#E5ECF6",
            "gridcolor": "white",
            "gridwidth": 2,
            "linecolor": "white",
            "showbackground": true,
            "ticks": "",
            "zerolinecolor": "white"
           },
           "yaxis": {
            "backgroundcolor": "#E5ECF6",
            "gridcolor": "white",
            "gridwidth": 2,
            "linecolor": "white",
            "showbackground": true,
            "ticks": "",
            "zerolinecolor": "white"
           },
           "zaxis": {
            "backgroundcolor": "#E5ECF6",
            "gridcolor": "white",
            "gridwidth": 2,
            "linecolor": "white",
            "showbackground": true,
            "ticks": "",
            "zerolinecolor": "white"
           }
          },
          "shapedefaults": {
           "line": {
            "color": "#2a3f5f"
           }
          },
          "ternary": {
           "aaxis": {
            "gridcolor": "white",
            "linecolor": "white",
            "ticks": ""
           },
           "baxis": {
            "gridcolor": "white",
            "linecolor": "white",
            "ticks": ""
           },
           "bgcolor": "#E5ECF6",
           "caxis": {
            "gridcolor": "white",
            "linecolor": "white",
            "ticks": ""
           }
          },
          "title": {
           "x": 0.05
          },
          "xaxis": {
           "automargin": true,
           "gridcolor": "white",
           "linecolor": "white",
           "ticks": "",
           "title": {
            "standoff": 15
           },
           "zerolinecolor": "white",
           "zerolinewidth": 2
          },
          "yaxis": {
           "automargin": true,
           "gridcolor": "white",
           "linecolor": "white",
           "ticks": "",
           "title": {
            "standoff": 15
           },
           "zerolinecolor": "white",
           "zerolinewidth": 2
          }
         }
        },
        "xaxis": {
         "tickangle": -90
        }
       }
      }
     },
     "metadata": {},
     "output_type": "display_data"
    }
   ],
   "source": [
    "fig = go.Figure()\n",
    "fig.add_trace(go.Bar(x=bills_df['date'],\n",
    "                y=bills_df['amt'],\n",
    "                name='Actual Bill Amt',\n",
    "                marker_color='darkblue'\n",
    "                ))\n",
    "fig.add_trace(go.Bar(x=projections_df['date'],\n",
    "                y=projections_df['projectedamt'],\n",
    "                name='Projected Bill Amt',\n",
    "                marker_color='dodgerblue'\n",
    "                ))\n",
    "\n",
    "fig.update_layout(xaxis_tickangle=-90)\n",
    "\n",
    "fig.show()"
   ]
  },
  {
   "cell_type": "markdown",
   "metadata": {},
   "source": [
    "### Visualize the errors\n",
    "\n",
    "The errors are pretty small so let's put them on a separate figure."
   ]
  },
  {
   "cell_type": "code",
   "execution_count": 140,
   "metadata": {},
   "outputs": [
    {
     "data": {
      "application/vnd.plotly.v1+json": {
       "config": {
        "plotlyServerURL": "https://plot.ly"
       },
       "data": [
        {
         "marker": {
          "color": "black"
         },
         "name": "positive error",
         "type": "bar",
         "x": [
          "2022-03-22T00:00:00",
          "2022-02-18T00:00:00",
          "2022-01-21T00:00:00",
          "2021-11-19T00:00:00"
         ],
         "y": [
          3.1799999999999926,
          1.5499999999999972,
          6.429999999999993,
          0.9799999999999898
         ]
        },
        {
         "marker": {
          "color": "red"
         },
         "name": "negative error",
         "type": "bar",
         "x": [
          "2022-04-21T00:00:00",
          "2021-12-20T00:00:00",
          "2021-05-20T00:00:00",
          "2021-03-22T00:00:00",
          "2021-02-23T00:00:00"
         ],
         "y": [
          -2.7300000000000004,
          -3.3400000000000034,
          -0.3299999999999983,
          -4.219999999999999,
          -1.0900000000000034
         ]
        }
       ],
       "layout": {
        "template": {
         "data": {
          "bar": [
           {
            "error_x": {
             "color": "#2a3f5f"
            },
            "error_y": {
             "color": "#2a3f5f"
            },
            "marker": {
             "line": {
              "color": "#E5ECF6",
              "width": 0.5
             },
             "pattern": {
              "fillmode": "overlay",
              "size": 10,
              "solidity": 0.2
             }
            },
            "type": "bar"
           }
          ],
          "barpolar": [
           {
            "marker": {
             "line": {
              "color": "#E5ECF6",
              "width": 0.5
             },
             "pattern": {
              "fillmode": "overlay",
              "size": 10,
              "solidity": 0.2
             }
            },
            "type": "barpolar"
           }
          ],
          "carpet": [
           {
            "aaxis": {
             "endlinecolor": "#2a3f5f",
             "gridcolor": "white",
             "linecolor": "white",
             "minorgridcolor": "white",
             "startlinecolor": "#2a3f5f"
            },
            "baxis": {
             "endlinecolor": "#2a3f5f",
             "gridcolor": "white",
             "linecolor": "white",
             "minorgridcolor": "white",
             "startlinecolor": "#2a3f5f"
            },
            "type": "carpet"
           }
          ],
          "choropleth": [
           {
            "colorbar": {
             "outlinewidth": 0,
             "ticks": ""
            },
            "type": "choropleth"
           }
          ],
          "contour": [
           {
            "colorbar": {
             "outlinewidth": 0,
             "ticks": ""
            },
            "colorscale": [
             [
              0,
              "#0d0887"
             ],
             [
              0.1111111111111111,
              "#46039f"
             ],
             [
              0.2222222222222222,
              "#7201a8"
             ],
             [
              0.3333333333333333,
              "#9c179e"
             ],
             [
              0.4444444444444444,
              "#bd3786"
             ],
             [
              0.5555555555555556,
              "#d8576b"
             ],
             [
              0.6666666666666666,
              "#ed7953"
             ],
             [
              0.7777777777777778,
              "#fb9f3a"
             ],
             [
              0.8888888888888888,
              "#fdca26"
             ],
             [
              1,
              "#f0f921"
             ]
            ],
            "type": "contour"
           }
          ],
          "contourcarpet": [
           {
            "colorbar": {
             "outlinewidth": 0,
             "ticks": ""
            },
            "type": "contourcarpet"
           }
          ],
          "heatmap": [
           {
            "colorbar": {
             "outlinewidth": 0,
             "ticks": ""
            },
            "colorscale": [
             [
              0,
              "#0d0887"
             ],
             [
              0.1111111111111111,
              "#46039f"
             ],
             [
              0.2222222222222222,
              "#7201a8"
             ],
             [
              0.3333333333333333,
              "#9c179e"
             ],
             [
              0.4444444444444444,
              "#bd3786"
             ],
             [
              0.5555555555555556,
              "#d8576b"
             ],
             [
              0.6666666666666666,
              "#ed7953"
             ],
             [
              0.7777777777777778,
              "#fb9f3a"
             ],
             [
              0.8888888888888888,
              "#fdca26"
             ],
             [
              1,
              "#f0f921"
             ]
            ],
            "type": "heatmap"
           }
          ],
          "heatmapgl": [
           {
            "colorbar": {
             "outlinewidth": 0,
             "ticks": ""
            },
            "colorscale": [
             [
              0,
              "#0d0887"
             ],
             [
              0.1111111111111111,
              "#46039f"
             ],
             [
              0.2222222222222222,
              "#7201a8"
             ],
             [
              0.3333333333333333,
              "#9c179e"
             ],
             [
              0.4444444444444444,
              "#bd3786"
             ],
             [
              0.5555555555555556,
              "#d8576b"
             ],
             [
              0.6666666666666666,
              "#ed7953"
             ],
             [
              0.7777777777777778,
              "#fb9f3a"
             ],
             [
              0.8888888888888888,
              "#fdca26"
             ],
             [
              1,
              "#f0f921"
             ]
            ],
            "type": "heatmapgl"
           }
          ],
          "histogram": [
           {
            "marker": {
             "pattern": {
              "fillmode": "overlay",
              "size": 10,
              "solidity": 0.2
             }
            },
            "type": "histogram"
           }
          ],
          "histogram2d": [
           {
            "colorbar": {
             "outlinewidth": 0,
             "ticks": ""
            },
            "colorscale": [
             [
              0,
              "#0d0887"
             ],
             [
              0.1111111111111111,
              "#46039f"
             ],
             [
              0.2222222222222222,
              "#7201a8"
             ],
             [
              0.3333333333333333,
              "#9c179e"
             ],
             [
              0.4444444444444444,
              "#bd3786"
             ],
             [
              0.5555555555555556,
              "#d8576b"
             ],
             [
              0.6666666666666666,
              "#ed7953"
             ],
             [
              0.7777777777777778,
              "#fb9f3a"
             ],
             [
              0.8888888888888888,
              "#fdca26"
             ],
             [
              1,
              "#f0f921"
             ]
            ],
            "type": "histogram2d"
           }
          ],
          "histogram2dcontour": [
           {
            "colorbar": {
             "outlinewidth": 0,
             "ticks": ""
            },
            "colorscale": [
             [
              0,
              "#0d0887"
             ],
             [
              0.1111111111111111,
              "#46039f"
             ],
             [
              0.2222222222222222,
              "#7201a8"
             ],
             [
              0.3333333333333333,
              "#9c179e"
             ],
             [
              0.4444444444444444,
              "#bd3786"
             ],
             [
              0.5555555555555556,
              "#d8576b"
             ],
             [
              0.6666666666666666,
              "#ed7953"
             ],
             [
              0.7777777777777778,
              "#fb9f3a"
             ],
             [
              0.8888888888888888,
              "#fdca26"
             ],
             [
              1,
              "#f0f921"
             ]
            ],
            "type": "histogram2dcontour"
           }
          ],
          "mesh3d": [
           {
            "colorbar": {
             "outlinewidth": 0,
             "ticks": ""
            },
            "type": "mesh3d"
           }
          ],
          "parcoords": [
           {
            "line": {
             "colorbar": {
              "outlinewidth": 0,
              "ticks": ""
             }
            },
            "type": "parcoords"
           }
          ],
          "pie": [
           {
            "automargin": true,
            "type": "pie"
           }
          ],
          "scatter": [
           {
            "fillpattern": {
             "fillmode": "overlay",
             "size": 10,
             "solidity": 0.2
            },
            "type": "scatter"
           }
          ],
          "scatter3d": [
           {
            "line": {
             "colorbar": {
              "outlinewidth": 0,
              "ticks": ""
             }
            },
            "marker": {
             "colorbar": {
              "outlinewidth": 0,
              "ticks": ""
             }
            },
            "type": "scatter3d"
           }
          ],
          "scattercarpet": [
           {
            "marker": {
             "colorbar": {
              "outlinewidth": 0,
              "ticks": ""
             }
            },
            "type": "scattercarpet"
           }
          ],
          "scattergeo": [
           {
            "marker": {
             "colorbar": {
              "outlinewidth": 0,
              "ticks": ""
             }
            },
            "type": "scattergeo"
           }
          ],
          "scattergl": [
           {
            "marker": {
             "colorbar": {
              "outlinewidth": 0,
              "ticks": ""
             }
            },
            "type": "scattergl"
           }
          ],
          "scattermapbox": [
           {
            "marker": {
             "colorbar": {
              "outlinewidth": 0,
              "ticks": ""
             }
            },
            "type": "scattermapbox"
           }
          ],
          "scatterpolar": [
           {
            "marker": {
             "colorbar": {
              "outlinewidth": 0,
              "ticks": ""
             }
            },
            "type": "scatterpolar"
           }
          ],
          "scatterpolargl": [
           {
            "marker": {
             "colorbar": {
              "outlinewidth": 0,
              "ticks": ""
             }
            },
            "type": "scatterpolargl"
           }
          ],
          "scatterternary": [
           {
            "marker": {
             "colorbar": {
              "outlinewidth": 0,
              "ticks": ""
             }
            },
            "type": "scatterternary"
           }
          ],
          "surface": [
           {
            "colorbar": {
             "outlinewidth": 0,
             "ticks": ""
            },
            "colorscale": [
             [
              0,
              "#0d0887"
             ],
             [
              0.1111111111111111,
              "#46039f"
             ],
             [
              0.2222222222222222,
              "#7201a8"
             ],
             [
              0.3333333333333333,
              "#9c179e"
             ],
             [
              0.4444444444444444,
              "#bd3786"
             ],
             [
              0.5555555555555556,
              "#d8576b"
             ],
             [
              0.6666666666666666,
              "#ed7953"
             ],
             [
              0.7777777777777778,
              "#fb9f3a"
             ],
             [
              0.8888888888888888,
              "#fdca26"
             ],
             [
              1,
              "#f0f921"
             ]
            ],
            "type": "surface"
           }
          ],
          "table": [
           {
            "cells": {
             "fill": {
              "color": "#EBF0F8"
             },
             "line": {
              "color": "white"
             }
            },
            "header": {
             "fill": {
              "color": "#C8D4E3"
             },
             "line": {
              "color": "white"
             }
            },
            "type": "table"
           }
          ]
         },
         "layout": {
          "annotationdefaults": {
           "arrowcolor": "#2a3f5f",
           "arrowhead": 0,
           "arrowwidth": 1
          },
          "autotypenumbers": "strict",
          "coloraxis": {
           "colorbar": {
            "outlinewidth": 0,
            "ticks": ""
           }
          },
          "colorscale": {
           "diverging": [
            [
             0,
             "#8e0152"
            ],
            [
             0.1,
             "#c51b7d"
            ],
            [
             0.2,
             "#de77ae"
            ],
            [
             0.3,
             "#f1b6da"
            ],
            [
             0.4,
             "#fde0ef"
            ],
            [
             0.5,
             "#f7f7f7"
            ],
            [
             0.6,
             "#e6f5d0"
            ],
            [
             0.7,
             "#b8e186"
            ],
            [
             0.8,
             "#7fbc41"
            ],
            [
             0.9,
             "#4d9221"
            ],
            [
             1,
             "#276419"
            ]
           ],
           "sequential": [
            [
             0,
             "#0d0887"
            ],
            [
             0.1111111111111111,
             "#46039f"
            ],
            [
             0.2222222222222222,
             "#7201a8"
            ],
            [
             0.3333333333333333,
             "#9c179e"
            ],
            [
             0.4444444444444444,
             "#bd3786"
            ],
            [
             0.5555555555555556,
             "#d8576b"
            ],
            [
             0.6666666666666666,
             "#ed7953"
            ],
            [
             0.7777777777777778,
             "#fb9f3a"
            ],
            [
             0.8888888888888888,
             "#fdca26"
            ],
            [
             1,
             "#f0f921"
            ]
           ],
           "sequentialminus": [
            [
             0,
             "#0d0887"
            ],
            [
             0.1111111111111111,
             "#46039f"
            ],
            [
             0.2222222222222222,
             "#7201a8"
            ],
            [
             0.3333333333333333,
             "#9c179e"
            ],
            [
             0.4444444444444444,
             "#bd3786"
            ],
            [
             0.5555555555555556,
             "#d8576b"
            ],
            [
             0.6666666666666666,
             "#ed7953"
            ],
            [
             0.7777777777777778,
             "#fb9f3a"
            ],
            [
             0.8888888888888888,
             "#fdca26"
            ],
            [
             1,
             "#f0f921"
            ]
           ]
          },
          "colorway": [
           "#636efa",
           "#EF553B",
           "#00cc96",
           "#ab63fa",
           "#FFA15A",
           "#19d3f3",
           "#FF6692",
           "#B6E880",
           "#FF97FF",
           "#FECB52"
          ],
          "font": {
           "color": "#2a3f5f"
          },
          "geo": {
           "bgcolor": "white",
           "lakecolor": "white",
           "landcolor": "#E5ECF6",
           "showlakes": true,
           "showland": true,
           "subunitcolor": "white"
          },
          "hoverlabel": {
           "align": "left"
          },
          "hovermode": "closest",
          "mapbox": {
           "style": "light"
          },
          "paper_bgcolor": "white",
          "plot_bgcolor": "#E5ECF6",
          "polar": {
           "angularaxis": {
            "gridcolor": "white",
            "linecolor": "white",
            "ticks": ""
           },
           "bgcolor": "#E5ECF6",
           "radialaxis": {
            "gridcolor": "white",
            "linecolor": "white",
            "ticks": ""
           }
          },
          "scene": {
           "xaxis": {
            "backgroundcolor": "#E5ECF6",
            "gridcolor": "white",
            "gridwidth": 2,
            "linecolor": "white",
            "showbackground": true,
            "ticks": "",
            "zerolinecolor": "white"
           },
           "yaxis": {
            "backgroundcolor": "#E5ECF6",
            "gridcolor": "white",
            "gridwidth": 2,
            "linecolor": "white",
            "showbackground": true,
            "ticks": "",
            "zerolinecolor": "white"
           },
           "zaxis": {
            "backgroundcolor": "#E5ECF6",
            "gridcolor": "white",
            "gridwidth": 2,
            "linecolor": "white",
            "showbackground": true,
            "ticks": "",
            "zerolinecolor": "white"
           }
          },
          "shapedefaults": {
           "line": {
            "color": "#2a3f5f"
           }
          },
          "ternary": {
           "aaxis": {
            "gridcolor": "white",
            "linecolor": "white",
            "ticks": ""
           },
           "baxis": {
            "gridcolor": "white",
            "linecolor": "white",
            "ticks": ""
           },
           "bgcolor": "#E5ECF6",
           "caxis": {
            "gridcolor": "white",
            "linecolor": "white",
            "ticks": ""
           }
          },
          "title": {
           "x": 0.05
          },
          "xaxis": {
           "automargin": true,
           "gridcolor": "white",
           "linecolor": "white",
           "ticks": "",
           "title": {
            "standoff": 15
           },
           "zerolinecolor": "white",
           "zerolinewidth": 2
          },
          "yaxis": {
           "automargin": true,
           "gridcolor": "white",
           "linecolor": "white",
           "ticks": "",
           "title": {
            "standoff": 15
           },
           "zerolinecolor": "white",
           "zerolinewidth": 2
          }
         }
        },
        "xaxis": {
         "tickangle": -90
        }
       }
      }
     },
     "metadata": {},
     "output_type": "display_data"
    }
   ],
   "source": [
    "fig = go.Figure()\n",
    "\n",
    "fig.add_trace(go.Bar(x=diff_df[diff_df['error']>0]['date'],\n",
    "                y=diff_df[diff_df['error']>0]['error'],\n",
    "                name='positive error',\n",
    "                marker_color='black'\n",
    "                ))\n",
    "fig.add_trace(go.Bar(x=diff_df[diff_df['error']<0]['date'],\n",
    "                y=diff_df[diff_df['error']<0]['error'],\n",
    "                name='negative error',\n",
    "                marker_color='red'\n",
    "                ))\n",
    "\n",
    "fig.update_layout(xaxis_tickangle=-90)\n",
    "\n",
    "fig.show()"
   ]
  },
  {
   "cell_type": "code",
   "execution_count": 136,
   "metadata": {},
   "outputs": [],
   "source": [
    "from plotly.subplots import make_subplots"
   ]
  },
  {
   "cell_type": "markdown",
   "metadata": {},
   "source": [
    "### Combine into a plot with two subplots "
   ]
  },
  {
   "cell_type": "code",
   "execution_count": 144,
   "metadata": {},
   "outputs": [
    {
     "data": {
      "application/vnd.plotly.v1+json": {
       "config": {
        "plotlyServerURL": "https://plot.ly"
       },
       "data": [
        {
         "marker": {
          "color": "darkblue"
         },
         "name": "Actual Bill Amt",
         "type": "bar",
         "x": [
          "2022-04-21T00:00:00",
          "2022-03-22T00:00:00",
          "2022-02-18T00:00:00",
          "2022-01-21T00:00:00",
          "2021-12-20T00:00:00",
          "2021-11-19T00:00:00",
          "2021-10-20T00:00:00",
          "2021-09-20T00:00:00",
          "2021-08-19T00:00:00",
          "2021-07-21T00:00:00",
          "2021-06-21T00:00:00",
          "2021-05-20T00:00:00",
          "2021-04-21T00:00:00",
          "2021-03-22T00:00:00",
          "2021-02-23T00:00:00",
          "2021-01-23T00:00:00"
         ],
         "xaxis": "x",
         "y": [
          30.17,
          81.48,
          72.73,
          89.43,
          90.26,
          69.37,
          44.22,
          69.65,
          67.26,
          75.01,
          74.58,
          61.91,
          40.08,
          73.22,
          79.09,
          81.1
         ],
         "yaxis": "y"
        },
        {
         "marker": {
          "color": "dodgerblue"
         },
         "name": "Projected Bill Amt",
         "type": "bar",
         "x": [
          "2022-05-12T00:00:00",
          "2022-05-05T00:00:00",
          "2022-04-28T00:00:00",
          "2022-04-12T00:00:00",
          "2022-04-06T00:00:00",
          "2022-03-30T00:00:00",
          "2022-03-11T00:00:00",
          "2022-02-25T00:00:00",
          "2022-02-07T00:00:00",
          "2022-02-04T00:00:00",
          "2022-01-28T00:00:00",
          "2022-01-03T00:00:00",
          "2021-12-10T00:00:00",
          "2021-12-03T00:00:00",
          "2021-11-26T00:00:00",
          "2021-11-10T00:00:00",
          "2021-11-03T00:00:00",
          "2021-10-27T00:00:00",
          "2021-05-13T00:00:00",
          "2021-05-06T00:00:00",
          "2021-04-29T00:00:00",
          "2021-03-16T00:00:00",
          "2021-03-09T00:00:00",
          "2021-03-02T00:00:00",
          "2021-02-13T00:00:00",
          "2021-02-06T00:00:00",
          "2021-01-30T00:00:00",
          "2021-01-12T00:00:00",
          "2021-01-05T00:00:00"
         ],
         "xaxis": "x",
         "y": [
          83.77,
          83.85,
          84.6,
          27.44,
          22.58,
          16.35,
          84.66,
          88.39,
          74.28,
          75.5,
          73.58,
          95.86,
          86.92,
          92.39,
          87.67,
          70.35,
          71.96,
          72.94,
          61.58,
          61.11,
          62.7,
          69,
          66,
          66,
          78,
          79,
          84,
          88,
          90
         ],
         "yaxis": "y"
        },
        {
         "marker": {
          "color": "black"
         },
         "name": "positive error",
         "type": "bar",
         "x": [
          "2022-03-22T00:00:00",
          "2022-02-18T00:00:00",
          "2022-01-21T00:00:00",
          "2021-11-19T00:00:00"
         ],
         "xaxis": "x2",
         "y": [
          3.1799999999999926,
          1.5499999999999972,
          6.429999999999993,
          0.9799999999999898
         ],
         "yaxis": "y2"
        },
        {
         "marker": {
          "color": "red"
         },
         "name": "negative error",
         "type": "bar",
         "x": [
          "2022-04-21T00:00:00",
          "2021-12-20T00:00:00",
          "2021-05-20T00:00:00",
          "2021-03-22T00:00:00",
          "2021-02-23T00:00:00"
         ],
         "xaxis": "x2",
         "y": [
          -2.7300000000000004,
          -3.3400000000000034,
          -0.3299999999999983,
          -4.219999999999999,
          -1.0900000000000034
         ],
         "yaxis": "y2"
        }
       ],
       "layout": {
        "template": {
         "data": {
          "bar": [
           {
            "error_x": {
             "color": "#2a3f5f"
            },
            "error_y": {
             "color": "#2a3f5f"
            },
            "marker": {
             "line": {
              "color": "#E5ECF6",
              "width": 0.5
             },
             "pattern": {
              "fillmode": "overlay",
              "size": 10,
              "solidity": 0.2
             }
            },
            "type": "bar"
           }
          ],
          "barpolar": [
           {
            "marker": {
             "line": {
              "color": "#E5ECF6",
              "width": 0.5
             },
             "pattern": {
              "fillmode": "overlay",
              "size": 10,
              "solidity": 0.2
             }
            },
            "type": "barpolar"
           }
          ],
          "carpet": [
           {
            "aaxis": {
             "endlinecolor": "#2a3f5f",
             "gridcolor": "white",
             "linecolor": "white",
             "minorgridcolor": "white",
             "startlinecolor": "#2a3f5f"
            },
            "baxis": {
             "endlinecolor": "#2a3f5f",
             "gridcolor": "white",
             "linecolor": "white",
             "minorgridcolor": "white",
             "startlinecolor": "#2a3f5f"
            },
            "type": "carpet"
           }
          ],
          "choropleth": [
           {
            "colorbar": {
             "outlinewidth": 0,
             "ticks": ""
            },
            "type": "choropleth"
           }
          ],
          "contour": [
           {
            "colorbar": {
             "outlinewidth": 0,
             "ticks": ""
            },
            "colorscale": [
             [
              0,
              "#0d0887"
             ],
             [
              0.1111111111111111,
              "#46039f"
             ],
             [
              0.2222222222222222,
              "#7201a8"
             ],
             [
              0.3333333333333333,
              "#9c179e"
             ],
             [
              0.4444444444444444,
              "#bd3786"
             ],
             [
              0.5555555555555556,
              "#d8576b"
             ],
             [
              0.6666666666666666,
              "#ed7953"
             ],
             [
              0.7777777777777778,
              "#fb9f3a"
             ],
             [
              0.8888888888888888,
              "#fdca26"
             ],
             [
              1,
              "#f0f921"
             ]
            ],
            "type": "contour"
           }
          ],
          "contourcarpet": [
           {
            "colorbar": {
             "outlinewidth": 0,
             "ticks": ""
            },
            "type": "contourcarpet"
           }
          ],
          "heatmap": [
           {
            "colorbar": {
             "outlinewidth": 0,
             "ticks": ""
            },
            "colorscale": [
             [
              0,
              "#0d0887"
             ],
             [
              0.1111111111111111,
              "#46039f"
             ],
             [
              0.2222222222222222,
              "#7201a8"
             ],
             [
              0.3333333333333333,
              "#9c179e"
             ],
             [
              0.4444444444444444,
              "#bd3786"
             ],
             [
              0.5555555555555556,
              "#d8576b"
             ],
             [
              0.6666666666666666,
              "#ed7953"
             ],
             [
              0.7777777777777778,
              "#fb9f3a"
             ],
             [
              0.8888888888888888,
              "#fdca26"
             ],
             [
              1,
              "#f0f921"
             ]
            ],
            "type": "heatmap"
           }
          ],
          "heatmapgl": [
           {
            "colorbar": {
             "outlinewidth": 0,
             "ticks": ""
            },
            "colorscale": [
             [
              0,
              "#0d0887"
             ],
             [
              0.1111111111111111,
              "#46039f"
             ],
             [
              0.2222222222222222,
              "#7201a8"
             ],
             [
              0.3333333333333333,
              "#9c179e"
             ],
             [
              0.4444444444444444,
              "#bd3786"
             ],
             [
              0.5555555555555556,
              "#d8576b"
             ],
             [
              0.6666666666666666,
              "#ed7953"
             ],
             [
              0.7777777777777778,
              "#fb9f3a"
             ],
             [
              0.8888888888888888,
              "#fdca26"
             ],
             [
              1,
              "#f0f921"
             ]
            ],
            "type": "heatmapgl"
           }
          ],
          "histogram": [
           {
            "marker": {
             "pattern": {
              "fillmode": "overlay",
              "size": 10,
              "solidity": 0.2
             }
            },
            "type": "histogram"
           }
          ],
          "histogram2d": [
           {
            "colorbar": {
             "outlinewidth": 0,
             "ticks": ""
            },
            "colorscale": [
             [
              0,
              "#0d0887"
             ],
             [
              0.1111111111111111,
              "#46039f"
             ],
             [
              0.2222222222222222,
              "#7201a8"
             ],
             [
              0.3333333333333333,
              "#9c179e"
             ],
             [
              0.4444444444444444,
              "#bd3786"
             ],
             [
              0.5555555555555556,
              "#d8576b"
             ],
             [
              0.6666666666666666,
              "#ed7953"
             ],
             [
              0.7777777777777778,
              "#fb9f3a"
             ],
             [
              0.8888888888888888,
              "#fdca26"
             ],
             [
              1,
              "#f0f921"
             ]
            ],
            "type": "histogram2d"
           }
          ],
          "histogram2dcontour": [
           {
            "colorbar": {
             "outlinewidth": 0,
             "ticks": ""
            },
            "colorscale": [
             [
              0,
              "#0d0887"
             ],
             [
              0.1111111111111111,
              "#46039f"
             ],
             [
              0.2222222222222222,
              "#7201a8"
             ],
             [
              0.3333333333333333,
              "#9c179e"
             ],
             [
              0.4444444444444444,
              "#bd3786"
             ],
             [
              0.5555555555555556,
              "#d8576b"
             ],
             [
              0.6666666666666666,
              "#ed7953"
             ],
             [
              0.7777777777777778,
              "#fb9f3a"
             ],
             [
              0.8888888888888888,
              "#fdca26"
             ],
             [
              1,
              "#f0f921"
             ]
            ],
            "type": "histogram2dcontour"
           }
          ],
          "mesh3d": [
           {
            "colorbar": {
             "outlinewidth": 0,
             "ticks": ""
            },
            "type": "mesh3d"
           }
          ],
          "parcoords": [
           {
            "line": {
             "colorbar": {
              "outlinewidth": 0,
              "ticks": ""
             }
            },
            "type": "parcoords"
           }
          ],
          "pie": [
           {
            "automargin": true,
            "type": "pie"
           }
          ],
          "scatter": [
           {
            "fillpattern": {
             "fillmode": "overlay",
             "size": 10,
             "solidity": 0.2
            },
            "type": "scatter"
           }
          ],
          "scatter3d": [
           {
            "line": {
             "colorbar": {
              "outlinewidth": 0,
              "ticks": ""
             }
            },
            "marker": {
             "colorbar": {
              "outlinewidth": 0,
              "ticks": ""
             }
            },
            "type": "scatter3d"
           }
          ],
          "scattercarpet": [
           {
            "marker": {
             "colorbar": {
              "outlinewidth": 0,
              "ticks": ""
             }
            },
            "type": "scattercarpet"
           }
          ],
          "scattergeo": [
           {
            "marker": {
             "colorbar": {
              "outlinewidth": 0,
              "ticks": ""
             }
            },
            "type": "scattergeo"
           }
          ],
          "scattergl": [
           {
            "marker": {
             "colorbar": {
              "outlinewidth": 0,
              "ticks": ""
             }
            },
            "type": "scattergl"
           }
          ],
          "scattermapbox": [
           {
            "marker": {
             "colorbar": {
              "outlinewidth": 0,
              "ticks": ""
             }
            },
            "type": "scattermapbox"
           }
          ],
          "scatterpolar": [
           {
            "marker": {
             "colorbar": {
              "outlinewidth": 0,
              "ticks": ""
             }
            },
            "type": "scatterpolar"
           }
          ],
          "scatterpolargl": [
           {
            "marker": {
             "colorbar": {
              "outlinewidth": 0,
              "ticks": ""
             }
            },
            "type": "scatterpolargl"
           }
          ],
          "scatterternary": [
           {
            "marker": {
             "colorbar": {
              "outlinewidth": 0,
              "ticks": ""
             }
            },
            "type": "scatterternary"
           }
          ],
          "surface": [
           {
            "colorbar": {
             "outlinewidth": 0,
             "ticks": ""
            },
            "colorscale": [
             [
              0,
              "#0d0887"
             ],
             [
              0.1111111111111111,
              "#46039f"
             ],
             [
              0.2222222222222222,
              "#7201a8"
             ],
             [
              0.3333333333333333,
              "#9c179e"
             ],
             [
              0.4444444444444444,
              "#bd3786"
             ],
             [
              0.5555555555555556,
              "#d8576b"
             ],
             [
              0.6666666666666666,
              "#ed7953"
             ],
             [
              0.7777777777777778,
              "#fb9f3a"
             ],
             [
              0.8888888888888888,
              "#fdca26"
             ],
             [
              1,
              "#f0f921"
             ]
            ],
            "type": "surface"
           }
          ],
          "table": [
           {
            "cells": {
             "fill": {
              "color": "#EBF0F8"
             },
             "line": {
              "color": "white"
             }
            },
            "header": {
             "fill": {
              "color": "#C8D4E3"
             },
             "line": {
              "color": "white"
             }
            },
            "type": "table"
           }
          ]
         },
         "layout": {
          "annotationdefaults": {
           "arrowcolor": "#2a3f5f",
           "arrowhead": 0,
           "arrowwidth": 1
          },
          "autotypenumbers": "strict",
          "coloraxis": {
           "colorbar": {
            "outlinewidth": 0,
            "ticks": ""
           }
          },
          "colorscale": {
           "diverging": [
            [
             0,
             "#8e0152"
            ],
            [
             0.1,
             "#c51b7d"
            ],
            [
             0.2,
             "#de77ae"
            ],
            [
             0.3,
             "#f1b6da"
            ],
            [
             0.4,
             "#fde0ef"
            ],
            [
             0.5,
             "#f7f7f7"
            ],
            [
             0.6,
             "#e6f5d0"
            ],
            [
             0.7,
             "#b8e186"
            ],
            [
             0.8,
             "#7fbc41"
            ],
            [
             0.9,
             "#4d9221"
            ],
            [
             1,
             "#276419"
            ]
           ],
           "sequential": [
            [
             0,
             "#0d0887"
            ],
            [
             0.1111111111111111,
             "#46039f"
            ],
            [
             0.2222222222222222,
             "#7201a8"
            ],
            [
             0.3333333333333333,
             "#9c179e"
            ],
            [
             0.4444444444444444,
             "#bd3786"
            ],
            [
             0.5555555555555556,
             "#d8576b"
            ],
            [
             0.6666666666666666,
             "#ed7953"
            ],
            [
             0.7777777777777778,
             "#fb9f3a"
            ],
            [
             0.8888888888888888,
             "#fdca26"
            ],
            [
             1,
             "#f0f921"
            ]
           ],
           "sequentialminus": [
            [
             0,
             "#0d0887"
            ],
            [
             0.1111111111111111,
             "#46039f"
            ],
            [
             0.2222222222222222,
             "#7201a8"
            ],
            [
             0.3333333333333333,
             "#9c179e"
            ],
            [
             0.4444444444444444,
             "#bd3786"
            ],
            [
             0.5555555555555556,
             "#d8576b"
            ],
            [
             0.6666666666666666,
             "#ed7953"
            ],
            [
             0.7777777777777778,
             "#fb9f3a"
            ],
            [
             0.8888888888888888,
             "#fdca26"
            ],
            [
             1,
             "#f0f921"
            ]
           ]
          },
          "colorway": [
           "#636efa",
           "#EF553B",
           "#00cc96",
           "#ab63fa",
           "#FFA15A",
           "#19d3f3",
           "#FF6692",
           "#B6E880",
           "#FF97FF",
           "#FECB52"
          ],
          "font": {
           "color": "#2a3f5f"
          },
          "geo": {
           "bgcolor": "white",
           "lakecolor": "white",
           "landcolor": "#E5ECF6",
           "showlakes": true,
           "showland": true,
           "subunitcolor": "white"
          },
          "hoverlabel": {
           "align": "left"
          },
          "hovermode": "closest",
          "mapbox": {
           "style": "light"
          },
          "paper_bgcolor": "white",
          "plot_bgcolor": "#E5ECF6",
          "polar": {
           "angularaxis": {
            "gridcolor": "white",
            "linecolor": "white",
            "ticks": ""
           },
           "bgcolor": "#E5ECF6",
           "radialaxis": {
            "gridcolor": "white",
            "linecolor": "white",
            "ticks": ""
           }
          },
          "scene": {
           "xaxis": {
            "backgroundcolor": "#E5ECF6",
            "gridcolor": "white",
            "gridwidth": 2,
            "linecolor": "white",
            "showbackground": true,
            "ticks": "",
            "zerolinecolor": "white"
           },
           "yaxis": {
            "backgroundcolor": "#E5ECF6",
            "gridcolor": "white",
            "gridwidth": 2,
            "linecolor": "white",
            "showbackground": true,
            "ticks": "",
            "zerolinecolor": "white"
           },
           "zaxis": {
            "backgroundcolor": "#E5ECF6",
            "gridcolor": "white",
            "gridwidth": 2,
            "linecolor": "white",
            "showbackground": true,
            "ticks": "",
            "zerolinecolor": "white"
           }
          },
          "shapedefaults": {
           "line": {
            "color": "#2a3f5f"
           }
          },
          "ternary": {
           "aaxis": {
            "gridcolor": "white",
            "linecolor": "white",
            "ticks": ""
           },
           "baxis": {
            "gridcolor": "white",
            "linecolor": "white",
            "ticks": ""
           },
           "bgcolor": "#E5ECF6",
           "caxis": {
            "gridcolor": "white",
            "linecolor": "white",
            "ticks": ""
           }
          },
          "title": {
           "x": 0.05
          },
          "xaxis": {
           "automargin": true,
           "gridcolor": "white",
           "linecolor": "white",
           "ticks": "",
           "title": {
            "standoff": 15
           },
           "zerolinecolor": "white",
           "zerolinewidth": 2
          },
          "yaxis": {
           "automargin": true,
           "gridcolor": "white",
           "linecolor": "white",
           "ticks": "",
           "title": {
            "standoff": 15
           },
           "zerolinecolor": "white",
           "zerolinewidth": 2
          }
         }
        },
        "xaxis": {
         "anchor": "y",
         "domain": [
          0,
          1
         ],
         "matches": "x2",
         "showticklabels": false
        },
        "xaxis2": {
         "anchor": "y2",
         "domain": [
          0,
          1
         ]
        },
        "yaxis": {
         "anchor": "x",
         "domain": [
          0.575,
          1
         ]
        },
        "yaxis2": {
         "anchor": "x2",
         "domain": [
          0,
          0.425
         ]
        }
       }
      }
     },
     "metadata": {},
     "output_type": "display_data"
    }
   ],
   "source": [
    "fig = make_subplots(rows=2,shared_xaxes='columns')\n",
    "\n",
    "fig.add_trace(go.Bar(x=bills_df['date'],\n",
    "                y=bills_df['amt'],\n",
    "                name='Actual Bill Amt',\n",
    "                marker_color='darkblue'\n",
    "                ), row=1, col=1)\n",
    "fig.add_trace(go.Bar(x=projections_df['date'],\n",
    "                y=projections_df['projectedamt'],\n",
    "                name='Projected Bill Amt',\n",
    "                marker_color='dodgerblue'\n",
    "                ), row=1, col=1)\n",
    "\n",
    "fig.add_trace(go.Bar(x=diff_df[diff_df['error']>0]['date'],\n",
    "                y=diff_df[diff_df['error']>0]['error'],\n",
    "                name='positive error',\n",
    "                marker_color='black'\n",
    "                ), row=2, col=1)\n",
    "fig.add_trace(go.Bar(x=diff_df[diff_df['error']<0]['date'],\n",
    "                y=diff_df[diff_df['error']<0]['error'],\n",
    "                name='negative error',\n",
    "                marker_color='red'\n",
    "                ), row=2, col=1)\n",
    "\n",
    "\n",
    "fig.show()"
   ]
  }
 ],
 "metadata": {
  "interpreter": {
   "hash": "c2ee4b7f7eb954571bf947532a8780439ad7cc0706de47989c3983f8acf1841e"
  },
  "kernelspec": {
   "display_name": "Python 3.10.4 ('IBMDS3-10-4')",
   "language": "python",
   "name": "python3"
  },
  "language_info": {
   "codemirror_mode": {
    "name": "ipython",
    "version": 3
   },
   "file_extension": ".py",
   "mimetype": "text/x-python",
   "name": "python",
   "nbconvert_exporter": "python",
   "pygments_lexer": "ipython3",
   "version": "3.10.4"
  },
  "orig_nbformat": 4
 },
 "nbformat": 4,
 "nbformat_minor": 2
}
